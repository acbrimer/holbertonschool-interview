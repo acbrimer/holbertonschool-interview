{
 "cells": [
  {
   "cell_type": "code",
   "execution_count": null,
   "metadata": {},
   "outputs": [],
   "source": [
    "walls = [2, 0, 0, 4, 0, 0, 1, 0]\n",
    "\n",
    "\n",
    "i = 0\n",
    "gaps = []\n",
    "while i < len(walls):\n",
    "    if walls[i] == 0:\n",
    "        i += 1\n",
    "    gaps.append(i)\n",
    "\n",
    "print(gaps)"
   ]
  },
  {
   "cell_type": "code",
   "execution_count": 7,
   "metadata": {},
   "outputs": [
    {
     "data": {
      "text/plain": [
       "0"
      ]
     },
     "execution_count": 7,
     "metadata": {},
     "output_type": "execute_result"
    }
   ],
   "source": [
    "walls = [1, 2, 1, 2]\n",
    "\n",
    "\n",
    "def getArea(startIx):\n",
    "    \"\"\" Computes the area between a starting index and the next wall if exists \"\"\"\n",
    "    endIx = startIx + 1\n",
    "    while walls[endIx] == 0:\n",
    "        # end of walls\n",
    "        if endIx == len(walls) - 1:\n",
    "            return -1\n",
    "        endIx += 1\n",
    "    # return next height and width\n",
    "    width = endIx - startIx - 1\n",
    "    return min([walls[endIx], walls[startIx]]) * width\n",
    "\n",
    "\n",
    "def rain(walls):\n",
    "    \"\"\" Gets area of rain between n walls of varrying heights \"\"\"\n",
    "    if len([v for v in walls if not isinstance(v, int)]) > 0:\n",
    "        return 0\n",
    "    area = 0\n",
    "    for ix, h in enumerate(walls):\n",
    "        # get the next wall if current position is a wall\n",
    "        if h != 0 and ix < len(walls) - 1:\n",
    "            a = getArea(ix)\n",
    "            # if getArea returns -1, no more walls\n",
    "            if a == -1:\n",
    "                return area\n",
    "            area += a\n",
    "    return area\n",
    "\n",
    "\n",
    "rain(walls)\n"
   ]
  },
  {
   "cell_type": "code",
   "execution_count": null,
   "metadata": {},
   "outputs": [],
   "source": [
    "walls = [2, 0, 0, 4, 0, 0, 1, 0]\n",
    "\n",
    "\n",
    "def measureGap(startIx, walls):\n",
    "    endIx = startIx + 1\n",
    "    while walls[endIx] == 0 and endIx < len(walls):\n",
    "        endIx += 1\n",
    "    print(f\"Start: {startIx}, End: {endIx}\")\n",
    "    return endIx, min([walls[startIx], walls[endIx]]) * (endIx - startIx)\n",
    "\n",
    "\n",
    "area = 0\n",
    "i = 1\n",
    "while i < len(walls):\n",
    "    if walls[i - 1] != 0 and walls[i] == 0:\n",
    "        n, a = measureGap(walls[i], walls)\n",
    "        i = n\n",
    "        area += a\n",
    "    else:\n",
    "        i += 1\n",
    "print(area)\n"
   ]
  },
  {
   "cell_type": "code",
   "execution_count": 82,
   "metadata": {},
   "outputs": [
    {
     "ename": "IndexError",
     "evalue": "list index out of range",
     "output_type": "error",
     "traceback": [
      "\u001b[0;31m---------------------------------------------------------------------------\u001b[0m",
      "\u001b[0;31mIndexError\u001b[0m                                Traceback (most recent call last)",
      "\u001b[0;32m<ipython-input-82-ec89e57af695>\u001b[0m in \u001b[0;36m<module>\u001b[0;34m\u001b[0m\n\u001b[1;32m     36\u001b[0m \u001b[0;32mfor\u001b[0m \u001b[0my\u001b[0m\u001b[0;34m,\u001b[0m \u001b[0mr\u001b[0m \u001b[0;32min\u001b[0m \u001b[0menumerate\u001b[0m\u001b[0;34m(\u001b[0m\u001b[0mgrid\u001b[0m\u001b[0;34m)\u001b[0m\u001b[0;34m:\u001b[0m\u001b[0;34m\u001b[0m\u001b[0;34m\u001b[0m\u001b[0m\n\u001b[1;32m     37\u001b[0m     \u001b[0;32mfor\u001b[0m \u001b[0mx\u001b[0m\u001b[0;34m,\u001b[0m \u001b[0mc\u001b[0m \u001b[0;32min\u001b[0m \u001b[0menumerate\u001b[0m\u001b[0;34m(\u001b[0m\u001b[0mr\u001b[0m\u001b[0;34m)\u001b[0m\u001b[0;34m:\u001b[0m\u001b[0;34m\u001b[0m\u001b[0;34m\u001b[0m\u001b[0m\n\u001b[0;32m---> 38\u001b[0;31m         \u001b[0;32mif\u001b[0m \u001b[0;32mnot\u001b[0m \u001b[0mc\u001b[0m \u001b[0;32mand\u001b[0m \u001b[0mhasL\u001b[0m\u001b[0;34m(\u001b[0m\u001b[0my\u001b[0m\u001b[0;34m,\u001b[0m \u001b[0mx\u001b[0m\u001b[0;34m)\u001b[0m \u001b[0;32mand\u001b[0m \u001b[0mhasR\u001b[0m\u001b[0;34m(\u001b[0m\u001b[0my\u001b[0m\u001b[0;34m,\u001b[0m \u001b[0mx\u001b[0m\u001b[0;34m)\u001b[0m\u001b[0;34m:\u001b[0m\u001b[0;34m\u001b[0m\u001b[0;34m\u001b[0m\u001b[0m\n\u001b[0m\u001b[1;32m     39\u001b[0m             \u001b[0marea\u001b[0m \u001b[0;34m+=\u001b[0m \u001b[0;36m1\u001b[0m\u001b[0;34m\u001b[0m\u001b[0;34m\u001b[0m\u001b[0m\n\u001b[1;32m     40\u001b[0m \u001b[0mprint\u001b[0m\u001b[0;34m(\u001b[0m\u001b[0marea\u001b[0m\u001b[0;34m)\u001b[0m\u001b[0;34m\u001b[0m\u001b[0;34m\u001b[0m\u001b[0m\n",
      "\u001b[0;32m<ipython-input-82-ec89e57af695>\u001b[0m in \u001b[0;36mhasR\u001b[0;34m(y, x)\u001b[0m\n\u001b[1;32m     30\u001b[0m             \u001b[0;32mreturn\u001b[0m \u001b[0;32mTrue\u001b[0m\u001b[0;34m\u001b[0m\u001b[0;34m\u001b[0m\u001b[0m\n\u001b[1;32m     31\u001b[0m         \u001b[0mnextX\u001b[0m \u001b[0;34m+=\u001b[0m \u001b[0;36m1\u001b[0m\u001b[0;34m\u001b[0m\u001b[0;34m\u001b[0m\u001b[0m\n\u001b[0;32m---> 32\u001b[0;31m     \u001b[0;32mreturn\u001b[0m \u001b[0mgrid\u001b[0m\u001b[0;34m[\u001b[0m\u001b[0my\u001b[0m\u001b[0;34m]\u001b[0m\u001b[0;34m[\u001b[0m\u001b[0mlastWall\u001b[0m\u001b[0;34m]\u001b[0m\u001b[0;34m\u001b[0m\u001b[0;34m\u001b[0m\u001b[0m\n\u001b[0m\u001b[1;32m     33\u001b[0m \u001b[0;34m\u001b[0m\u001b[0m\n\u001b[1;32m     34\u001b[0m \u001b[0;34m\u001b[0m\u001b[0m\n",
      "\u001b[0;31mIndexError\u001b[0m: list index out of range"
     ]
    }
   ],
   "source": [
    "walls = [2, 0, 0, 4, 0, 0, 1, 0]\n",
    "maxH = max(walls)\n",
    "firstWall = min([i for i, x in enumerate(walls) if x > 0])\n",
    "lastWall = max([i for i, x in enumerate(walls) if x > 0])\n",
    "w = walls[firstWall:lastWall]\n",
    "grid = [[True if w[x] > 0 and y < w[x]\n",
    "         else False for x in range(len(w))] for y in range(maxH)]\n",
    "grid = list(grid)\n",
    "\n",
    "\n",
    "def hasL(y, x):\n",
    "    \"\"\" check if current cell is contained on the left\n",
    "    \"\"\"\n",
    "    if x == 0:\n",
    "        return False\n",
    "    prevX = x - 1\n",
    "    while prevX > 0:\n",
    "        if grid[y][prevX]:\n",
    "            return True\n",
    "        prevX -= 1\n",
    "    return grid[y][0]\n",
    "\n",
    "\n",
    "def hasR(y, x):\n",
    "    \"\"\" check if the current cell is contained on the right \n",
    "    \"\"\"\n",
    "    nextX = x + 1\n",
    "    while nextX < len(w) - 1:\n",
    "        if grid[y][nextX]:\n",
    "            return True\n",
    "        nextX += 1\n",
    "    return grid[y][len(w) - 1]\n",
    "\n",
    "\n",
    "area = 0\n",
    "for y, r in enumerate(grid):\n",
    "    for x, c in enumerate(r):\n",
    "        if not c and hasL(y, x) and hasR(y, x):\n",
    "            area += 1\n",
    "print(area)\n",
    "\n",
    "\n",
    "gridCoords = [[y, x] for y in range(maxH) for x in range(len(walls))]\n"
   ]
  },
  {
   "cell_type": "code",
   "execution_count": 64,
   "metadata": {},
   "outputs": [
    {
     "name": "stdout",
     "output_type": "stream",
     "text": [
      "[1, 2, 3]\n"
     ]
    }
   ],
   "source": [
    "# create an array of indexes in 'walls' where height >\n",
    "heights = [ix for ix, height in enumerate(walls) if height > 0]\n",
    "areas = [min([walls[h], walls[heights[i + 1]]]) * (heights[i + 1] - h - 1)\n",
    "              for i, h in enumerate(heights) if i < len(heights) - 1]\n",
    "\n"
   ]
  },
  {
   "cell_type": "code",
   "execution_count": null,
   "metadata": {},
   "outputs": [],
   "source": []
  }
 ],
 "metadata": {
  "interpreter": {
   "hash": "aee8b7b246df8f9039afb4144a1f6fd8d2ca17a180786b69acc140d282b71a49"
  },
  "kernelspec": {
   "display_name": "Python 3.9.5 64-bit",
   "language": "python",
   "name": "python3"
  },
  "language_info": {
   "codemirror_mode": {
    "name": "ipython",
    "version": 3
   },
   "file_extension": ".py",
   "mimetype": "text/x-python",
   "name": "python",
   "nbconvert_exporter": "python",
   "pygments_lexer": "ipython3",
   "version": "3.9.5"
  },
  "orig_nbformat": 4
 },
 "nbformat": 4,
 "nbformat_minor": 2
}
