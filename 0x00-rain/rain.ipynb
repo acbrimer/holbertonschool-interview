{
 "cells": [
  {
   "cell_type": "code",
   "execution_count": null,
   "metadata": {},
   "outputs": [],
   "source": [
    "walls = [2, 0, 0, 4, 0, 0, 1, 0]\n",
    "\n",
    "\n",
    "i = 0\n",
    "gaps = []\n",
    "while i < len(walls):\n",
    "    if walls[i] == 0:\n",
    "        i += 1\n",
    "    gaps.append(i)\n",
    "\n",
    "print(gaps)"
   ]
  },
  {
   "cell_type": "code",
   "execution_count": null,
   "metadata": {},
   "outputs": [],
   "source": [
    "walls = [2, 0, 0, 4, 0, 0, 1, 0]\n",
    "\n",
    "\n",
    "def getArea(startIx):\n",
    "    \"\"\" Computes the area between a starting index and the next wall if exists \"\"\"\n",
    "    endIx = startIx + 1\n",
    "    while walls[endIx] == 0:\n",
    "        # end of walls\n",
    "        if endIx == len(walls) - 1:\n",
    "            return -1\n",
    "        endIx += 1\n",
    "    # return next height and width\n",
    "    width = endIx - startIx - 1\n",
    "    return min([walls[endIx], walls[startIx]]) * width\n",
    "\n",
    "\n",
    "def rain(walls):\n",
    "    \"\"\" Gets area of rain between n walls of varrying heights \"\"\"\n",
    "    area = 0\n",
    "    for ix, h in enumerate(walls):\n",
    "        # get the next wall if current position is a wall\n",
    "        if h != 0:\n",
    "            a = getArea(ix)\n",
    "            # if getArea returns -1, no more walls\n",
    "            if a == -1:\n",
    "                return area\n",
    "            area += a\n",
    "    return area\n"
   ]
  },
  {
   "cell_type": "code",
   "execution_count": null,
   "metadata": {},
   "outputs": [],
   "source": [
    "walls = [2, 0, 0, 4, 0, 0, 1, 0]\n",
    "\n",
    "\n",
    "def measureGap(startIx, walls):\n",
    "    endIx = startIx + 1\n",
    "    while walls[endIx] == 0 and endIx < len(walls):\n",
    "        endIx += 1\n",
    "    print(f\"Start: {startIx}, End: {endIx}\")\n",
    "    return endIx, min([walls[startIx], walls[endIx]]) * (endIx - startIx)\n",
    "\n",
    "\n",
    "area = 0\n",
    "i = 1\n",
    "while i < len(walls):\n",
    "    if walls[i - 1] != 0 and walls[i] == 0:\n",
    "        n, a = measureGap(walls[i], walls)\n",
    "        i = n\n",
    "        area += a\n",
    "    else:\n",
    "        i += 1\n",
    "print(area)\n"
   ]
  },
  {
   "cell_type": "code",
   "execution_count": null,
   "metadata": {},
   "outputs": [],
   "source": []
  }
 ],
 "metadata": {
  "interpreter": {
   "hash": "aee8b7b246df8f9039afb4144a1f6fd8d2ca17a180786b69acc140d282b71a49"
  },
  "kernelspec": {
   "display_name": "Python 3.9.5 64-bit",
   "language": "python",
   "name": "python3"
  },
  "language_info": {
   "codemirror_mode": {
    "name": "ipython",
    "version": 3
   },
   "file_extension": ".py",
   "mimetype": "text/x-python",
   "name": "python",
   "nbconvert_exporter": "python",
   "pygments_lexer": "ipython3",
   "version": "3.9.5"
  },
  "orig_nbformat": 4
 },
 "nbformat": 4,
 "nbformat_minor": 2
}
